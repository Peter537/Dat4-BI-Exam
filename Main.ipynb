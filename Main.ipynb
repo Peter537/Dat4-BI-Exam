{
 "cells": [
  {
   "cell_type": "code",
   "execution_count": 2,
   "metadata": {},
   "outputs": [],
   "source": [
    "import numpy as np\n",
    "import pandas as pd\n",
    "import seaborn as sns\n",
    "import xml.etree.ElementTree as ET\n",
    "import matplotlib.pyplot as plt\n",
    "import folium\n",
    "import geopandas as gpd"
   ]
  },
  {
   "cell_type": "code",
   "execution_count": 3,
   "metadata": {},
   "outputs": [],
   "source": [
    "pdmap = gpd.read_file(\"Data\\\\DK_NamedPlace\\\\gn_inspire.gpkg\")"
   ]
  },
  {
   "cell_type": "code",
   "execution_count": 4,
   "metadata": {},
   "outputs": [],
   "source": [
    "pdsample = pdmap[:30000]\n",
    "# pdsample.to_file(\"Data\\\\DK_NamedPlace\\\\gn_inspire_reduced.geojson\", driver=\"GeoJSON\")  "
   ]
  },
  {
   "cell_type": "code",
   "execution_count": 5,
   "metadata": {},
   "outputs": [],
   "source": [
    "# fmap = folium.Map(\"Data\\\\DK_NamedPlace\\\\gn_inspire.gpkg\")\n",
    "fmap = folium.Map(location = [55.6819, 12.5627], zoom_start = 3)\n",
    "poi = folium.GeoJson(\"Data\\\\DK_NamedPlace\\\\gn_inspire.geojson\", encoding='utf-8')"
   ]
  },
  {
   "cell_type": "code",
   "execution_count": 6,
   "metadata": {},
   "outputs": [],
   "source": [
    "for _, r in pdsample.iterrows():\n",
    "    # Without simplifying the representation of each borough,\n",
    "    # the map might not be displayed\n",
    "    sim_geo = gpd.GeoSeries(r[\"geometry\"]).simplify(tolerance=0.001)\n",
    "    geo_j = sim_geo.to_json()\n",
    "    geo_j = folium.GeoJson(data=geo_j, style_function=lambda x: {\"fillColor\": \"orange\"})\n",
    "    folium.Popup(r[\"name_gn_spell_spellofna_text\"]).add_to(geo_j)\n",
    "    geo_j.add_to(fmap)\n",
    "\n",
    "# Project to NAD83 projected crs\n",
    "pdsample = pdsample.to_crs(epsg=2263)\n",
    "\n",
    "# Access the centroid attribute of each polygon\n",
    "pdsample[\"centroid\"] = pdsample.centroid\n",
    "\n",
    "# Project to WGS84 geographic crs\n",
    "\n",
    "# geometry (active) column\n",
    "pdsample = pdsample.to_crs(epsg=4326)\n",
    "\n",
    "# Centroid column\n",
    "pdsample[\"centroid\"] = pdsample[\"centroid\"].to_crs(epsg=4326)\n",
    "\n",
    "for _, r in pdsample.iterrows():\n",
    "    lat = r[\"centroid\"].y\n",
    "    lon = r[\"centroid\"].x\n",
    "    text = r[\"name_gn_spell_spellofna_text\"]\n",
    "    if text is None:\n",
    "        text = \"No name\"\n",
    "    # try:\n",
    "    folium.Marker(\n",
    "        location=[lat, lon],\n",
    "        popup=\"Location: \" + text,\n",
    "        ).add_to(fmap)\n",
    "    # except:\n",
    "    #     print(\"An error occurred\")\n",
    "\n"
   ]
  },
  {
   "cell_type": "code",
   "execution_count": 7,
   "metadata": {},
   "outputs": [],
   "source": [
    "fmap.save(\"Data\\\\DK_NamedPlace\\\\gn_inspire.html\")"
   ]
  }
 ],
 "metadata": {
  "kernelspec": {
   "display_name": "Python 3",
   "language": "python",
   "name": "python3"
  },
  "language_info": {
   "codemirror_mode": {
    "name": "ipython",
    "version": 3
   },
   "file_extension": ".py",
   "mimetype": "text/x-python",
   "name": "python",
   "nbconvert_exporter": "python",
   "pygments_lexer": "ipython3",
   "version": "3.12.1"
  }
 },
 "nbformat": 4,
 "nbformat_minor": 2
}
